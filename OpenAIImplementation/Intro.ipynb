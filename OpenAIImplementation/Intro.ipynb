{
 "cells": [
  {
   "cell_type": "code",
   "execution_count": null,
   "metadata": {},
   "outputs": [],
   "source": [
    "# We intialize the environment variables"
   ]
  },
  {
   "cell_type": "code",
   "execution_count": 1,
   "metadata": {},
   "outputs": [
    {
     "data": {
      "text/plain": [
       "True"
      ]
     },
     "execution_count": 1,
     "metadata": {},
     "output_type": "execute_result"
    }
   ],
   "source": [
    "import os\n",
    "from dotenv import load_dotenv\n",
    "load_dotenv()"
   ]
  },
  {
   "cell_type": "code",
   "execution_count": 3,
   "metadata": {},
   "outputs": [],
   "source": [
    "os.environ['OPENAI_API_KEY']=os.getenv('OPENAI_API_KEY')\n",
    "#Langsmith Tracking\n",
    "os.environ['LANGCHAIN_API_KEY']=os.getenv(\"LANGCHAIN_API_KEY\")\n",
    "os.environ[\"LANGCHAIN_TRACING_V2\"]=\"true\"\n",
    "os.environ[\"LANGCHAIN_PROJECT\"]=os.getenv(\"LANGCHAIN_PROJECT\")"
   ]
  },
  {
   "cell_type": "code",
   "execution_count": 4,
   "metadata": {},
   "outputs": [
    {
     "name": "stdout",
     "output_type": "stream",
     "text": [
      "client=<openai.resources.chat.completions.completions.Completions object at 0x000001CAE8570850> async_client=<openai.resources.chat.completions.completions.AsyncCompletions object at 0x000001CAE8BCDCD0> root_client=<openai.OpenAI object at 0x000001CAE8588D10> root_async_client=<openai.AsyncOpenAI object at 0x000001CAE8BCD610> model_name='gpt-4o' model_kwargs={} openai_api_key=SecretStr('**********')\n"
     ]
    }
   ],
   "source": [
    "from langchain_openai import ChatOpenAI\n",
    "\n",
    "llm=ChatOpenAI(model='gpt-4o') # we don't need to mention any key as we are directly importing it rom .env file\n",
    "print(llm)"
   ]
  },
  {
   "cell_type": "code",
   "execution_count": 5,
   "metadata": {},
   "outputs": [],
   "source": [
    "# Input and Response from LLM\n",
    "\n",
    "result=llm.invoke(\"What is GenAI\")"
   ]
  },
  {
   "cell_type": "code",
   "execution_count": 6,
   "metadata": {},
   "outputs": [
    {
     "data": {
      "text/plain": [
       "AIMessage(content='Generative AI, often abbreviated as GenAI, refers to a subset of artificial intelligence that focuses on creating new content. This involves using machine learning models, particularly deep learning, to generate data that mimics the structure and style of the input data on which they were trained. Generative AI encompasses technologies and tools capable of producing text, images, music, and even entire videos through algorithms and models such as Generative Adversarial Networks (GANs), transformer models, and autoregressive models.\\n\\nProminent applications of generative AI include:\\n\\n1. **Text Generation**: Language models like GPT-3 and GPT-4, developed by OpenAI, can generate coherent and contextually relevant text passages suitable for applications in writing assistance, automated content creation, chatbots, and more.\\n\\n2. **Image and Art Creation**: Tools like DALL-E and Stable Diffusion can create unique images from textual descriptions, enabling new forms of digital art and design.\\n\\n3. **Music Composition**: AI models capable of generating music tracks tailored to specific genres or styles are used both for personal enjoyment and professional music production.\\n\\n4. **Video Content Generation**: There is emerging technology designed for creating video content, animated sequences, or deepfakes through generative models.\\n\\nGenerative AI stands out for its ability not just to replicate existing data but to innovate and produce novel combinations and manifestations of content, making it a powerful tool across multiple domains from entertainment to business and research.', additional_kwargs={'refusal': None}, response_metadata={'token_usage': {'completion_tokens': 295, 'prompt_tokens': 11, 'total_tokens': 306, 'completion_tokens_details': {'accepted_prediction_tokens': 0, 'audio_tokens': 0, 'reasoning_tokens': 0, 'rejected_prediction_tokens': 0}, 'prompt_tokens_details': {'audio_tokens': 0, 'cached_tokens': 0}}, 'model_name': 'gpt-4o-2024-08-06', 'system_fingerprint': 'fp_eb9dce56a8', 'finish_reason': 'stop', 'logprobs': None}, id='run-fcc460d0-b809-445c-89af-03c52a282979-0', usage_metadata={'input_tokens': 11, 'output_tokens': 295, 'total_tokens': 306, 'input_token_details': {'audio': 0, 'cache_read': 0}, 'output_token_details': {'audio': 0, 'reasoning': 0}})"
      ]
     },
     "execution_count": 6,
     "metadata": {},
     "output_type": "execute_result"
    }
   ],
   "source": [
    "result # it takes time to execute since langchain is tracking the model"
   ]
  },
  {
   "cell_type": "code",
   "execution_count": 7,
   "metadata": {},
   "outputs": [
    {
     "data": {
      "text/plain": [
       "ChatPromptTemplate(input_variables=['input'], input_types={}, partial_variables={}, messages=[SystemMessagePromptTemplate(prompt=PromptTemplate(input_variables=[], input_types={}, partial_variables={}, template='You are an expert cricket analyst. Provide me relevant answer based on the quuestions '), additional_kwargs={}), HumanMessagePromptTemplate(prompt=PromptTemplate(input_variables=['input'], input_types={}, partial_variables={}, template='{input}'), additional_kwargs={})])"
      ]
     },
     "execution_count": 7,
     "metadata": {},
     "output_type": "execute_result"
    }
   ],
   "source": [
    "# Chatprompt Template\n",
    "from langchain_core.prompts import ChatPromptTemplate\n",
    "\n",
    "prompt=ChatPromptTemplate.from_messages(\n",
    "    [\n",
    "        (\"system\",\"You are an expert cricket analyst. Provide me relevant answer based on the quuestions \"),\n",
    "        (\"user\",\"{input}\")\n",
    "    ]\n",
    ")\n",
    "prompt\n"
   ]
  },
  {
   "cell_type": "code",
   "execution_count": 8,
   "metadata": {},
   "outputs": [
    {
     "name": "stdout",
     "output_type": "stream",
     "text": [
      "content=\"As of my last update, the Indian Premier League (IPL) is known for its dynamic nature, with franchises making significant changes to their rosters and strategies each season. When looking ahead to the 2025 IPL season for Sunrisers Hyderabad (SRH), a few key factors will potentially influence their performance:\\n\\n### Recent Performance:\\n1. **Past Season Trends**: SRH has historically been strong in their bowling department, often focusing on maintaining a balanced attack. Monitoring their recent auction strategies and player acquisitions can give insights into whether they'll maintain this approach or shift focus, perhaps prioritizing batting.\\n\\n2. **Management and Coaching**: SRH's performance is heavily influenced by their coaching staff and management. Any changes here, such as a new head coach or support staff, can impact team strategy and morale.\\n\\n3. **Core Players**: Players such as experienced all-rounders, leading bowlers, and standout batsmen form the team's backbone. Continuity in retaining key figures, or smart recruitment in these areas, could be crucial.\\n\\n### Potential Strengths for 2025:\\n1. **Bowling Attack**: Traditionally, SRH has had a potent bowling lineup. If they continue this trend, they could rely on a mixture of experienced internationals and emerging Indian talents.\\n\\n2. **Young Talent**: Over the years, SRH has invested in nurturing young prospects. If some of their investments in younger players from prior seasons start to pay off, they could see a boost in both batting depth and fielding agility.\\n\\n3. **Auction Strategy**: The ability to secure solid local talents and a few high-impact overseas players is essential. Their strategy at the auctions could enhance their depth and flexibility.\\n\\n### Predictions for 2025:\\n1. **Competitive Edge**: If SRH maintains or improves their bowling strength, they are likely to compete strongly, especially against batting-heavy teams reliant on flat pitches.\\n\\n2. **Middle-Order Resilience**: A bolstered middle-order would be vital, potentially defining close matches and chasing tricky targets. The inclusion of capable finishers could be key.\\n\\n3. **Leadership Experience**: Having a tactically astute captain with international experience would be a pivotal asset, guiding the team in crunch situations and making on-the-spot decisions during matches.\\n\\nOverall, anticipating SRH's 2025 performance involves keeping a close eye on pre-season activities such as player trades, key signings, and strategic shifts introduced by their management. With the right blend of experience, youthful exuberance, and strategic acumen, SRH could potentially be strong contenders in the league.\" additional_kwargs={'refusal': None} response_metadata={'token_usage': {'completion_tokens': 526, 'prompt_tokens': 47, 'total_tokens': 573, 'completion_tokens_details': {'accepted_prediction_tokens': 0, 'audio_tokens': 0, 'reasoning_tokens': 0, 'rejected_prediction_tokens': 0}, 'prompt_tokens_details': {'audio_tokens': 0, 'cached_tokens': 0}}, 'model_name': 'gpt-4o-2024-08-06', 'system_fingerprint': 'fp_eb9dce56a8', 'finish_reason': 'stop', 'logprobs': None} id='run-3429d5d2-c1a5-4bfc-8fe2-cf9a46e75186-0' usage_metadata={'input_tokens': 47, 'output_tokens': 526, 'total_tokens': 573, 'input_token_details': {'audio': 0, 'cache_read': 0}, 'output_token_details': {'audio': 0, 'reasoning': 0}}\n"
     ]
    }
   ],
   "source": [
    "# Chain\n",
    "\n",
    "chain=prompt|llm\n",
    "\n",
    "response=chain.invoke({\"input\":\"Give me a review and predictions for Sunrisers Hyderabad for the upcoming 2025 IPL\"})\n",
    "print(response)"
   ]
  },
  {
   "cell_type": "code",
   "execution_count": 9,
   "metadata": {},
   "outputs": [
    {
     "data": {
      "text/plain": [
       "langchain_core.messages.ai.AIMessage"
      ]
     },
     "execution_count": 9,
     "metadata": {},
     "output_type": "execute_result"
    }
   ],
   "source": [
    "type(response)"
   ]
  },
  {
   "cell_type": "code",
   "execution_count": 10,
   "metadata": {},
   "outputs": [
    {
     "name": "stdout",
     "output_type": "stream",
     "text": [
      "As of 2023, the data science job market for freshers or those in the early stages of their careers is quite dynamic and promising, but competitive. Key trends and considerations include:\n",
      "\n",
      "1. **Demand and Growth**: Data science continues to be a rapidly growing field, with demand for data-related roles expected to rise as more companies recognize the value of data-driven decision-making.\n",
      "\n",
      "2. **Entry-Level Opportunities**: Many companies are looking for fresh talent to handle tasks like data cleaning, visualization, and basic analytics. Roles such as Data Analyst, Junior Data Scientist, and Business Analyst are common entry points.\n",
      "\n",
      "3. **Skill Expectations**: Freshers are often expected to have proficiency in programming languages like Python or R, experience with data visualization tools (e.g., Tableau or Power BI), and understanding of basic statistical methods. Knowledge in machine learning is a plus.\n",
      "\n",
      "4. **Educational Background**: A degree in computer science, statistics, mathematics, or a related field is often preferred. However, specialized data science boot camps and online courses have also become popular ways to acquire the necessary skills.\n",
      "\n",
      "5. **Certifications and Projects**: Certifications from recognized institutions and a portfolio of projects can significantly enhance a fresh candidate’s profile. Employers value hands-on experience with real-world data problems.\n",
      "\n",
      "6. **Industry Variations**: Industries such as finance, healthcare, e-commerce, and technology are particularly active in hiring data professionals. Each industry may prioritize different skills based on specific needs.\n",
      "\n",
      "7. **Location and Remote Work**: While tech hubs like Silicon Valley, New York, and Bengaluru often have numerous opportunities, remote work has broadened job prospects globally, allowing freshers to work for companies located anywhere.\n",
      "\n",
      "8. **Networking and Internships**: Networking through platforms like LinkedIn, attending industry conferences, and completing internships can provide valuable connections and practical experience.\n",
      "\n",
      "Overall, while the field offers numerous opportunities, freshers need to stand out by showcasing their skills through projects, internships, and targeted learning to meet the specific needs of employers.\n"
     ]
    }
   ],
   "source": [
    "# To display the output directly we use stroutput Parser\n",
    "\n",
    "from langchain_core.output_parsers import StrOutputParser\n",
    "\n",
    "output_parser = StrOutputParser()\n",
    "\n",
    "chain=prompt|llm|output_parser\n",
    "\n",
    "res=chain.invoke({\"input\":\"Can you tell me about the current data science job market for freshers ie early careers \"})\n",
    "\n",
    "print(res)\n"
   ]
  },
  {
   "cell_type": "code",
   "execution_count": null,
   "metadata": {},
   "outputs": [],
   "source": []
  },
  {
   "cell_type": "code",
   "execution_count": null,
   "metadata": {},
   "outputs": [],
   "source": []
  },
  {
   "cell_type": "code",
   "execution_count": null,
   "metadata": {},
   "outputs": [],
   "source": []
  },
  {
   "cell_type": "code",
   "execution_count": null,
   "metadata": {},
   "outputs": [],
   "source": []
  }
 ],
 "metadata": {
  "kernelspec": {
   "display_name": "Python 3",
   "language": "python",
   "name": "python3"
  },
  "language_info": {
   "codemirror_mode": {
    "name": "ipython",
    "version": 3
   },
   "file_extension": ".py",
   "mimetype": "text/x-python",
   "name": "python",
   "nbconvert_exporter": "python",
   "pygments_lexer": "ipython3",
   "version": "3.11.11"
  },
  "orig_nbformat": 4
 },
 "nbformat": 4,
 "nbformat_minor": 2
}
